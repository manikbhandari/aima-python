{
 "cells": [
  {
   "cell_type": "code",
   "execution_count": 1,
   "metadata": {
    "collapsed": false
   },
   "outputs": [],
   "source": [
    "import heapq as hq"
   ]
  },
  {
   "cell_type": "code",
   "execution_count": 2,
   "metadata": {
    "collapsed": true
   },
   "outputs": [],
   "source": [
    "import numpy as np"
   ]
  },
  {
   "cell_type": "code",
   "execution_count": 3,
   "metadata": {
    "collapsed": true
   },
   "outputs": [],
   "source": [
    "import random"
   ]
  },
  {
   "cell_type": "code",
   "execution_count": 4,
   "metadata": {
    "collapsed": true
   },
   "outputs": [],
   "source": [
    "import itertools"
   ]
  },
  {
   "cell_type": "code",
   "execution_count": 5,
   "metadata": {
    "collapsed": true
   },
   "outputs": [],
   "source": [
    "def generateEnv(r, c, p):\n",
    "    env = np.zeros((r,c))\n",
    "    indexes = random.sample(np.arange(0, r*c), int(float(p)/100*r*c))\n",
    "    for num in indexes:\n",
    "        env[num/r, num%c] = 1\n",
    "    return env"
   ]
  },
  {
   "cell_type": "code",
   "execution_count": 6,
   "metadata": {
    "collapsed": true
   },
   "outputs": [],
   "source": [
    "import Queue as Q"
   ]
  },
  {
   "cell_type": "code",
   "execution_count": 7,
   "metadata": {
    "collapsed": false
   },
   "outputs": [],
   "source": [
    "def getSucc(env, x, y, a, b):\n",
    "    suc = []\n",
    "    for i in range(len(a)):\n",
    "        if(x + a[i] >= 0 and x + a[i] < env.shape[0] and y + b[i] >= 0 and y + b[i] < env.shape[1]):\n",
    "            suc.append((x+a[i], y+b[i]))\n",
    "    return suc"
   ]
  },
  {
   "cell_type": "code",
   "execution_count": 8,
   "metadata": {
    "collapsed": true
   },
   "outputs": [],
   "source": [
    "a = [-1, 1, 0, 0]\n",
    "b = [0, 0, -1, 1]"
   ]
  },
  {
   "cell_type": "code",
   "execution_count": 9,
   "metadata": {
    "collapsed": false
   },
   "outputs": [],
   "source": [
    "def bfs(q, coord, vis):\n",
    "    while(q.empty() == False):\n",
    "        (x,y) = q.get()\n",
    "        if(vis[x,y]):\n",
    "            continue\n",
    "        \n",
    "        coord.append((x,y))\n",
    "        vis[x,y] = 1\n",
    "\n",
    "        if(env[x,y] == 1):\n",
    "            env[x,y] = 0\n",
    "        if(np.array_equal(env, goal)):\n",
    "            return (coord, env)\n",
    "        suc = getSucc(env, x, y, a, b)\n",
    "        for s in suc:\n",
    "            q.put(s)"
   ]
  },
  {
   "cell_type": "code",
   "execution_count": 10,
   "metadata": {
    "collapsed": true
   },
   "outputs": [],
   "source": [
    "import sys"
   ]
  },
  {
   "cell_type": "code",
   "execution_count": 11,
   "metadata": {
    "collapsed": true
   },
   "outputs": [],
   "source": [
    "def dfs(st, coord, vis):\n",
    "    t1_nodes = 0\n",
    "    t1_mem = sys.getsizeof((1,2))\n",
    "    t1_stack = 0\n",
    "    t1_cost = 0\n",
    "    \n",
    "    while(len(st) > 0):\n",
    "        (x,y) = st.pop()\n",
    "        if(vis[x,y]): \n",
    "            continue\n",
    "        \n",
    "        coord.append((x,y))\n",
    "        t1_nodes += 1\n",
    "        t1_cost = t1_cost + 2\n",
    "        vis[x,y] = 1\n",
    "        if(env[x,y] == 1):\n",
    "            env[x,y] = 0\n",
    "            t1_cost = t1_cost + 1\n",
    "        if(np.array_equal(env, goal)):\n",
    "            return (coord, env, t1_nodes, t1_mem, t1_stack, t1_cost)\n",
    "        suc = getSucc(env, x, y, a, b)\n",
    "        #introducing random choice between up, down, left, right\n",
    "        #random.shuffle(suc)\n",
    "        for s in suc:\n",
    "            st.append(s)\n",
    "        t1_stack = max(t1_stack, len(st))"
   ]
  },
  {
   "cell_type": "code",
   "execution_count": 12,
   "metadata": {
    "collapsed": false
   },
   "outputs": [],
   "source": [
    "def initializations(r,c,p):\n",
    "    coord = []\n",
    "    env = generateEnv(r,c,p)\n",
    "    goal = np.zeros(env.shape)\n",
    "    vis = np.zeros(env.shape)\n",
    "    q = Q.Queue()\n",
    "    q.put((0,0))\n",
    "    st = []\n",
    "    st.append((0,0))\n",
    "    pq = []\n",
    "    counter = itertools.count()\n",
    "    hq.heappush(pq, (0, 0, 0))\n",
    "    env\n",
    "    return coord, env, goal, vis, q, st, pq, counter"
   ]
  },
  {
   "cell_type": "code",
   "execution_count": 13,
   "metadata": {
    "collapsed": false
   },
   "outputs": [],
   "source": [
    "(coord, env, goal, vis, q, st, pq, counter) = initializations(10,10,70)"
   ]
  },
  {
   "cell_type": "code",
   "execution_count": 14,
   "metadata": {
    "collapsed": true
   },
   "outputs": [],
   "source": [
    "import timeit"
   ]
  },
  {
   "cell_type": "code",
   "execution_count": 15,
   "metadata": {
    "collapsed": false,
    "scrolled": true
   },
   "outputs": [],
   "source": [
    "start_time = timeit.default_timer()\n",
    "(path, final_env, t1_nodes, t1_mem, t1_stack, t1_cost) = dfs(st, coord, vis)\n",
    "t1_time = timeit.default_timer() - start_time"
   ]
  },
  {
   "cell_type": "code",
   "execution_count": 16,
   "metadata": {
    "collapsed": false
   },
   "outputs": [],
   "source": [
    "t1_nodes = len(path)"
   ]
  },
  {
   "cell_type": "code",
   "execution_count": 17,
   "metadata": {
    "collapsed": false
   },
   "outputs": [
    {
     "name": "stdout",
     "output_type": "stream",
     "text": [
      "[(0, 0), (0, 1), (0, 2), (0, 3), (0, 4), (0, 5), (0, 6), (0, 7), (0, 8), (0, 9), (1, 9), (1, 8), (1, 7), (1, 6), (1, 5), (1, 4), (1, 3), (1, 2), (1, 1), (1, 0), (2, 0), (2, 1), (2, 2), (2, 3), (2, 4), (2, 5), (2, 6), (2, 7), (2, 8), (2, 9), (3, 9), (3, 8), (3, 7), (3, 6), (3, 5), (3, 4), (3, 3), (3, 2), (3, 1), (3, 0), (4, 0), (4, 1), (4, 2), (4, 3), (4, 4), (4, 5), (4, 6), (4, 7), (4, 8), (4, 9), (5, 9), (5, 8), (5, 7), (5, 6), (5, 5), (5, 4), (5, 3), (5, 2), (5, 1), (5, 0), (6, 0), (6, 1), (6, 2), (6, 3), (6, 4), (6, 5), (6, 6), (6, 7), (6, 8), (6, 9), (7, 9), (7, 8), (7, 7), (7, 6), (7, 5), (7, 4), (7, 3), (7, 2), (7, 1), (7, 0), (8, 0), (8, 1), (8, 2), (8, 3), (8, 4), (8, 5), (8, 6), (8, 7), (8, 8), (8, 9), (9, 9), (9, 8), (9, 7), (9, 6), (9, 5), (9, 4), (9, 3), (9, 2), (9, 1), (9, 0)]\n"
     ]
    }
   ],
   "source": [
    "print path"
   ]
  },
  {
   "cell_type": "code",
   "execution_count": 18,
   "metadata": {
    "collapsed": true
   },
   "outputs": [],
   "source": [
    "t1_mem = sys.getsizeof((1,2))"
   ]
  },
  {
   "cell_type": "code",
   "execution_count": 19,
   "metadata": {
    "collapsed": false
   },
   "outputs": [
    {
     "name": "stdout",
     "output_type": "stream",
     "text": [
      "100\n",
      "72\n",
      "212\n",
      "270\n",
      "0.00171113014221\n"
     ]
    }
   ],
   "source": [
    "print t1_nodes\n",
    "print t1_mem\n",
    "print t1_stack\n",
    "print t1_cost\n",
    "print t1_time"
   ]
  },
  {
   "cell_type": "markdown",
   "metadata": {},
   "source": [
    "## Implementing A* search"
   ]
  },
  {
   "cell_type": "code",
   "execution_count": 20,
   "metadata": {
    "collapsed": false
   },
   "outputs": [],
   "source": [
    "def A_star1(pq, coord, vis, heuristic):\n",
    "    t2_nodes = 0\n",
    "    t2_mem = sys.getsizeof((1,2))\n",
    "    t2_stack = 0\n",
    "    t2_cost = 0\n",
    "    \n",
    "    while(len(pq) > 0):\n",
    "        #print \"getting here\"\n",
    "        (h, x,y) = hq.heappop(pq)\n",
    "        \n",
    "        if(vis[x,y] == 1): \n",
    "            continue\n",
    "        \n",
    "        t2_nodes += 1\n",
    "        coord.append((x,y))\n",
    "        t2_cost += 2\n",
    "        vis[x,y] += 1\n",
    "        if(env[x,y] == 1):\n",
    "            env[x,y] = 0\n",
    "            t2_cost += 1\n",
    "        if(np.array_equal(env, goal)):\n",
    "            return (coord, env, t2_nodes, t2_mem, t2_stack, t2_cost)\n",
    "        suc = getSucc(env, x, y, a, b)\n",
    "        #print x, y, h\n",
    "        if(heuristic == 1):\n",
    "            H = getHeuristic(suc, env, goal)\n",
    "        \n",
    "        elif(heuristic == 2):\n",
    "            H = getHeuristic2(suc, env, goal, x, y)\n",
    "        \n",
    "        for i in range(len(suc)):\n",
    "            hq.heappush(pq, (H[i], suc[i][0], suc[i][1]))\n",
    "        \n",
    "        t2_stack = max(t2_stack, len(pq))"
   ]
  },
  {
   "cell_type": "markdown",
   "metadata": {},
   "source": [
    "### 1. Heuristic 1: h = number of dirty tiles remaining\n",
    "\n",
    "### This favours moving towards dirty tiles"
   ]
  },
  {
   "cell_type": "code",
   "execution_count": 21,
   "metadata": {
    "collapsed": false
   },
   "outputs": [],
   "source": [
    "def getHeuristic(suc, env, goal):\n",
    "    H = []\n",
    "    for s in suc:\n",
    "        \n",
    "        h = -1 * env[s]                \n",
    "        H.append(h)\n",
    "    return np.array(H)"
   ]
  },
  {
   "cell_type": "markdown",
   "metadata": {},
   "source": [
    "### Heuristic 2: h = manhattan distance from all dirty tiles in it's window"
   ]
  },
  {
   "cell_type": "code",
   "execution_count": 22,
   "metadata": {
    "collapsed": true
   },
   "outputs": [],
   "source": [
    "def getManhattanDist(p1, p2):\n",
    "    return abs(p1[0] - p2[0]) + abs(p1[1] - p2[1])"
   ]
  },
  {
   "cell_type": "code",
   "execution_count": 23,
   "metadata": {
    "collapsed": false
   },
   "outputs": [],
   "source": [
    "def getHeuristic2(suc, env, goal, x, y):\n",
    "    H = []\n",
    "    for s in suc:\n",
    "        h = 0\n",
    "        \n",
    "        for i in range(max(0, x-1), min(x+2, env.shape[0])):\n",
    "            for j in range(max(0, y-1), min(y+2, env.shape[1])):\n",
    "                if(env[i][j] == 1):\n",
    "                    h += getManhattanDist((i,j), s)\n",
    "        H.append(h)\n",
    "    return H"
   ]
  },
  {
   "cell_type": "code",
   "execution_count": 24,
   "metadata": {
    "collapsed": true
   },
   "outputs": [],
   "source": [
    "import itertools"
   ]
  },
  {
   "cell_type": "code",
   "execution_count": 25,
   "metadata": {
    "collapsed": false
   },
   "outputs": [],
   "source": [
    "(coord, env, goal, vis, q, st, pq, counter) = initializations(10,10,70)"
   ]
  },
  {
   "cell_type": "code",
   "execution_count": 26,
   "metadata": {
    "collapsed": false
   },
   "outputs": [],
   "source": [
    "start_time = timeit.default_timer()\n",
    "(path, final_env, t2_nodes, t2_mem, t2_stack, t2_cost) = A_star1(pq, coord, vis, 1)\n",
    "t2_time = timeit.default_timer() - start_time"
   ]
  },
  {
   "cell_type": "code",
   "execution_count": 27,
   "metadata": {
    "collapsed": false
   },
   "outputs": [
    {
     "data": {
      "text/plain": [
       "95"
      ]
     },
     "execution_count": 27,
     "metadata": {},
     "output_type": "execute_result"
    }
   ],
   "source": [
    "len(path)"
   ]
  },
  {
   "cell_type": "code",
   "execution_count": 28,
   "metadata": {
    "collapsed": false
   },
   "outputs": [
    {
     "name": "stdout",
     "output_type": "stream",
     "text": [
      "[(0, 0), (0, 1), (0, 2), (0, 3), (0, 4), (0, 5), (0, 6), (0, 7), (0, 8), (1, 0), (1, 1), (1, 3), (1, 4), (1, 5), (1, 6), (1, 8), (1, 9), (2, 0), (2, 1), (2, 2), (2, 6), (2, 7), (2, 8), (2, 9), (3, 1), (3, 2), (3, 6), (3, 5), (3, 9), (4, 1), (4, 0), (4, 2), (4, 3), (4, 5), (4, 6), (4, 7), (4, 8), (4, 9), (5, 2), (5, 3), (5, 5), (5, 6), (5, 7), (5, 8), (6, 2), (6, 3), (6, 4), (6, 5), (6, 7), (6, 8), (6, 9), (7, 2), (7, 1), (7, 0), (7, 4), (7, 5), (7, 8), (8, 0), (8, 2), (8, 3), (8, 5), (8, 6), (8, 7), (8, 8), (8, 9), (9, 2), (9, 1), (9, 8), (9, 9), (0, 9), (1, 2), (1, 7), (2, 3), (2, 4), (2, 5), (3, 0), (3, 3), (3, 4), (3, 7), (3, 8), (4, 4), (5, 0), (5, 1), (5, 4), (5, 9), (6, 0), (6, 1), (6, 6), (7, 3), (7, 6), (7, 7), (7, 9), (8, 1), (8, 4), (9, 4)]\n"
     ]
    }
   ],
   "source": [
    "print path"
   ]
  },
  {
   "cell_type": "code",
   "execution_count": 29,
   "metadata": {
    "collapsed": false
   },
   "outputs": [
    {
     "name": "stdout",
     "output_type": "stream",
     "text": [
      "95\n",
      "72\n",
      "162\n",
      "260\n",
      "0.00323700904846\n"
     ]
    }
   ],
   "source": [
    "print t2_nodes\n",
    "print t2_mem\n",
    "print t2_stack\n",
    "print t2_cost\n",
    "print t2_time"
   ]
  },
  {
   "cell_type": "markdown",
   "metadata": {},
   "source": [
    "## Analysis Module"
   ]
  },
  {
   "cell_type": "markdown",
   "metadata": {},
   "source": [
    "### Comparitive Analysis"
   ]
  },
  {
   "cell_type": "code",
   "execution_count": 30,
   "metadata": {
    "collapsed": false
   },
   "outputs": [
    {
     "name": "stdout",
     "output_type": "stream",
     "text": [
      "mem used in t1 = 7200\n",
      "mem used in t2 = 6840\n"
     ]
    }
   ],
   "source": [
    "print \"mem used in t1 = \" + str(t1_nodes*t1_mem)\n",
    "print \"mem used in t2 = \" + str(t2_nodes*t2_mem)"
   ]
  },
  {
   "cell_type": "code",
   "execution_count": 31,
   "metadata": {
    "collapsed": false
   },
   "outputs": [],
   "source": [
    "cost_t2 = []\n",
    "for i in range(10):\n",
    "    \n",
    "    (coord, env, goal, vis, q, st, pq, counter) = initializations(10,10,70)\n",
    "    (path, final_env, t2_nodes, t2_mem, t2_stack, t2_cost) = A_star1(pq, coord, vis, 1)\n",
    "    cost_t2.append(t2_cost)"
   ]
  },
  {
   "cell_type": "code",
   "execution_count": 32,
   "metadata": {
    "collapsed": false
   },
   "outputs": [],
   "source": [
    "cost_t1 = []\n",
    "for i in range(10):\n",
    "    \n",
    "    (coord, env, goal, vis, q, st, pq, counter) = initializations(10,10,70)\n",
    "    (path, final_env, t1_nodes, t1_mem, t1_stack, t1_cost) = dfs(st, coord, vis)\n",
    "    cost_t1.append(t1_cost)"
   ]
  },
  {
   "cell_type": "code",
   "execution_count": 33,
   "metadata": {
    "collapsed": false
   },
   "outputs": [
    {
     "name": "stdout",
     "output_type": "stream",
     "text": [
      "average cost for t1 = 269.8\n",
      "average cost for t2 = 233.6\n"
     ]
    }
   ],
   "source": [
    "print \"average cost for t1 = \" + str(sum(cost_t1) / float(len(cost_t1)))\n",
    "print \"average cost for t2 = \" + str(sum(cost_t2) / float(len(cost_t2)))"
   ]
  },
  {
   "cell_type": "markdown",
   "metadata": {},
   "source": [
    "### G3"
   ]
  },
  {
   "cell_type": "code",
   "execution_count": 34,
   "metadata": {
    "collapsed": false
   },
   "outputs": [],
   "source": [
    "times_2 = []\n",
    "for sz in range(3, 21):\n",
    "    (coord, env, goal, vis, q, st, pq, counter) = initializations(sz,sz,70)\n",
    "    start_time = timeit.default_timer()\n",
    "    (path, final_env, t2_nodes, t2_mem, t2_stack, t2_cost) = A_star1(pq, coord, vis, 2)\n",
    "    t2_time = timeit.default_timer() - start_time\n",
    "    times_2.append(t2_time)"
   ]
  },
  {
   "cell_type": "code",
   "execution_count": 35,
   "metadata": {
    "collapsed": true
   },
   "outputs": [],
   "source": [
    "times_1 = []\n",
    "for sz in range(3, 21):\n",
    "    (coord, env, goal, vis, q, st, pq, counter) = initializations(sz,sz,70)\n",
    "    start_time = timeit.default_timer()\n",
    "    (path, final_env, t2_nodes, t2_mem, t2_stack, t2_cost) = A_star1(pq, coord, vis, 1)\n",
    "    t2_time = timeit.default_timer() - start_time\n",
    "    times_1.append(t2_time)"
   ]
  },
  {
   "cell_type": "code",
   "execution_count": 36,
   "metadata": {
    "collapsed": false
   },
   "outputs": [],
   "source": [
    "import matplotlib.pyplot as plt"
   ]
  },
  {
   "cell_type": "code",
   "execution_count": 37,
   "metadata": {
    "collapsed": false
   },
   "outputs": [],
   "source": [
    "fig = plt.figure()"
   ]
  },
  {
   "cell_type": "code",
   "execution_count": 38,
   "metadata": {
    "collapsed": true
   },
   "outputs": [],
   "source": [
    "ax1 = fig.add_subplot(111)"
   ]
  },
  {
   "cell_type": "code",
   "execution_count": 39,
   "metadata": {
    "collapsed": false
   },
   "outputs": [
    {
     "data": {
      "text/plain": [
       "<matplotlib.collections.PathCollection at 0x7fa4b469e690>"
      ]
     },
     "execution_count": 39,
     "metadata": {},
     "output_type": "execute_result"
    }
   ],
   "source": [
    "ax1.scatter(range(3,21), times_1, c='r')"
   ]
  },
  {
   "cell_type": "code",
   "execution_count": 40,
   "metadata": {
    "collapsed": false
   },
   "outputs": [
    {
     "data": {
      "text/plain": [
       "<matplotlib.collections.PathCollection at 0x7fa4ac032490>"
      ]
     },
     "execution_count": 40,
     "metadata": {},
     "output_type": "execute_result"
    }
   ],
   "source": [
    "ax1.scatter(range(3, 21), times_2, c='b')"
   ]
  },
  {
   "cell_type": "code",
   "execution_count": 41,
   "metadata": {
    "collapsed": true
   },
   "outputs": [],
   "source": [
    "plt.show()"
   ]
  },
  {
   "cell_type": "markdown",
   "metadata": {},
   "source": [
    "### G4"
   ]
  },
  {
   "cell_type": "code",
   "execution_count": 42,
   "metadata": {
    "collapsed": false
   },
   "outputs": [],
   "source": [
    "times_2 = []\n",
    "for p in range(10, 105, 5):\n",
    "    (coord, env, goal, vis, q, st, pq, counter) = initializations(10,10,p)\n",
    "    start_time = timeit.default_timer()\n",
    "    (path, final_env, t2_nodes, t2_mem, t2_stack, t2_cost) = A_star1(pq, coord, vis, 2)\n",
    "    t2_time = timeit.default_timer() - start_time\n",
    "    times_2.append(t2_time)"
   ]
  },
  {
   "cell_type": "code",
   "execution_count": 43,
   "metadata": {
    "collapsed": true
   },
   "outputs": [],
   "source": [
    "times_1 = []\n",
    "for p in range(10,105,5):\n",
    "    (coord, env, goal, vis, q, st, pq, counter) = initializations(10,10,p)\n",
    "    start_time = timeit.default_timer()\n",
    "    (path, final_env, t2_nodes, t2_mem, t2_stack, t2_cost) = A_star1(pq, coord, vis, 1)\n",
    "    t2_time = timeit.default_timer() - start_time\n",
    "    times_1.append(t2_time)"
   ]
  },
  {
   "cell_type": "code",
   "execution_count": 44,
   "metadata": {
    "collapsed": false
   },
   "outputs": [],
   "source": [
    "fig = plt.figure()\n",
    "ax1 = fig.add_subplot(111)\n",
    "ax1.scatter(range(10, 105, 5), times_1, c='r')\n",
    "ax1.scatter(range(10, 105, 5), times_2, c='b')\n",
    "plt.show()"
   ]
  }
 ],
 "metadata": {
  "kernelspec": {
   "display_name": "Python 2",
   "language": "python",
   "name": "python2"
  },
  "language_info": {
   "codemirror_mode": {
    "name": "ipython",
    "version": 2
   },
   "file_extension": ".py",
   "mimetype": "text/x-python",
   "name": "python",
   "nbconvert_exporter": "python",
   "pygments_lexer": "ipython2",
   "version": "2.7.11"
  }
 },
 "nbformat": 4,
 "nbformat_minor": 0
}
